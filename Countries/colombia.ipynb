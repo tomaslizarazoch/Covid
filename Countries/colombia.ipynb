{
 "cells": [
  {
   "cell_type": "code",
   "execution_count": 1,
   "metadata": {},
   "outputs": [],
   "source": [
    "import requests\n",
    "import pandas as pd\n",
    "import json\n"
   ]
  },
  {
   "cell_type": "code",
   "execution_count": 2,
   "metadata": {},
   "outputs": [
    {
     "output_type": "execute_result",
     "data": {
      "text/plain": "      iso_code continent       location        date  total_cases  new_cases  \\\n0          AFG      Asia    Afghanistan  2019-12-31          0.0        0.0   \n1          AFG      Asia    Afghanistan  2020-01-01          0.0        0.0   \n2          AFG      Asia    Afghanistan  2020-01-02          0.0        0.0   \n3          AFG      Asia    Afghanistan  2020-01-03          0.0        0.0   \n4          AFG      Asia    Afghanistan  2020-01-04          0.0        0.0   \n...        ...       ...            ...         ...          ...        ...   \n33412      NaN       NaN  International  2020-02-28        705.0        0.0   \n33413      NaN       NaN  International  2020-02-29        705.0        0.0   \n33414      NaN       NaN  International  2020-03-01        705.0        0.0   \n33415      NaN       NaN  International  2020-03-02        705.0        0.0   \n33416      NaN       NaN  International  2020-03-10        696.0       -9.0   \n\n       total_deaths  new_deaths  total_cases_per_million  \\\n0               0.0         0.0                      0.0   \n1               0.0         0.0                      0.0   \n2               0.0         0.0                      0.0   \n3               0.0         0.0                      0.0   \n4               0.0         0.0                      0.0   \n...             ...         ...                      ...   \n33412           4.0         0.0                      NaN   \n33413           6.0         2.0                      NaN   \n33414           6.0         0.0                      NaN   \n33415           6.0         0.0                      NaN   \n33416           7.0         1.0                      NaN   \n\n       new_cases_per_million  ...  aged_70_older  gdp_per_capita  \\\n0                        0.0  ...          1.337        1803.987   \n1                        0.0  ...          1.337        1803.987   \n2                        0.0  ...          1.337        1803.987   \n3                        0.0  ...          1.337        1803.987   \n4                        0.0  ...          1.337        1803.987   \n...                      ...  ...            ...             ...   \n33412                    NaN  ...            NaN             NaN   \n33413                    NaN  ...            NaN             NaN   \n33414                    NaN  ...            NaN             NaN   \n33415                    NaN  ...            NaN             NaN   \n33416                    NaN  ...            NaN             NaN   \n\n       extreme_poverty  cardiovasc_death_rate  diabetes_prevalence  \\\n0                  NaN                597.029                 9.59   \n1                  NaN                597.029                 9.59   \n2                  NaN                597.029                 9.59   \n3                  NaN                597.029                 9.59   \n4                  NaN                597.029                 9.59   \n...                ...                    ...                  ...   \n33412              NaN                    NaN                  NaN   \n33413              NaN                    NaN                  NaN   \n33414              NaN                    NaN                  NaN   \n33415              NaN                    NaN                  NaN   \n33416              NaN                    NaN                  NaN   \n\n       female_smokers  male_smokers  handwashing_facilities  \\\n0                 NaN           NaN                  37.746   \n1                 NaN           NaN                  37.746   \n2                 NaN           NaN                  37.746   \n3                 NaN           NaN                  37.746   \n4                 NaN           NaN                  37.746   \n...               ...           ...                     ...   \n33412             NaN           NaN                     NaN   \n33413             NaN           NaN                     NaN   \n33414             NaN           NaN                     NaN   \n33415             NaN           NaN                     NaN   \n33416             NaN           NaN                     NaN   \n\n      hospital_beds_per_thousand  life_expectancy  \n0                            0.5            64.83  \n1                            0.5            64.83  \n2                            0.5            64.83  \n3                            0.5            64.83  \n4                            0.5            64.83  \n...                          ...              ...  \n33412                        NaN              NaN  \n33413                        NaN              NaN  \n33414                        NaN              NaN  \n33415                        NaN              NaN  \n33416                        NaN              NaN  \n\n[33417 rows x 34 columns]",
      "text/html": "<div>\n<style scoped>\n    .dataframe tbody tr th:only-of-type {\n        vertical-align: middle;\n    }\n\n    .dataframe tbody tr th {\n        vertical-align: top;\n    }\n\n    .dataframe thead th {\n        text-align: right;\n    }\n</style>\n<table border=\"1\" class=\"dataframe\">\n  <thead>\n    <tr style=\"text-align: right;\">\n      <th></th>\n      <th>iso_code</th>\n      <th>continent</th>\n      <th>location</th>\n      <th>date</th>\n      <th>total_cases</th>\n      <th>new_cases</th>\n      <th>total_deaths</th>\n      <th>new_deaths</th>\n      <th>total_cases_per_million</th>\n      <th>new_cases_per_million</th>\n      <th>...</th>\n      <th>aged_70_older</th>\n      <th>gdp_per_capita</th>\n      <th>extreme_poverty</th>\n      <th>cardiovasc_death_rate</th>\n      <th>diabetes_prevalence</th>\n      <th>female_smokers</th>\n      <th>male_smokers</th>\n      <th>handwashing_facilities</th>\n      <th>hospital_beds_per_thousand</th>\n      <th>life_expectancy</th>\n    </tr>\n  </thead>\n  <tbody>\n    <tr>\n      <th>0</th>\n      <td>AFG</td>\n      <td>Asia</td>\n      <td>Afghanistan</td>\n      <td>2019-12-31</td>\n      <td>0.0</td>\n      <td>0.0</td>\n      <td>0.0</td>\n      <td>0.0</td>\n      <td>0.0</td>\n      <td>0.0</td>\n      <td>...</td>\n      <td>1.337</td>\n      <td>1803.987</td>\n      <td>NaN</td>\n      <td>597.029</td>\n      <td>9.59</td>\n      <td>NaN</td>\n      <td>NaN</td>\n      <td>37.746</td>\n      <td>0.5</td>\n      <td>64.83</td>\n    </tr>\n    <tr>\n      <th>1</th>\n      <td>AFG</td>\n      <td>Asia</td>\n      <td>Afghanistan</td>\n      <td>2020-01-01</td>\n      <td>0.0</td>\n      <td>0.0</td>\n      <td>0.0</td>\n      <td>0.0</td>\n      <td>0.0</td>\n      <td>0.0</td>\n      <td>...</td>\n      <td>1.337</td>\n      <td>1803.987</td>\n      <td>NaN</td>\n      <td>597.029</td>\n      <td>9.59</td>\n      <td>NaN</td>\n      <td>NaN</td>\n      <td>37.746</td>\n      <td>0.5</td>\n      <td>64.83</td>\n    </tr>\n    <tr>\n      <th>2</th>\n      <td>AFG</td>\n      <td>Asia</td>\n      <td>Afghanistan</td>\n      <td>2020-01-02</td>\n      <td>0.0</td>\n      <td>0.0</td>\n      <td>0.0</td>\n      <td>0.0</td>\n      <td>0.0</td>\n      <td>0.0</td>\n      <td>...</td>\n      <td>1.337</td>\n      <td>1803.987</td>\n      <td>NaN</td>\n      <td>597.029</td>\n      <td>9.59</td>\n      <td>NaN</td>\n      <td>NaN</td>\n      <td>37.746</td>\n      <td>0.5</td>\n      <td>64.83</td>\n    </tr>\n    <tr>\n      <th>3</th>\n      <td>AFG</td>\n      <td>Asia</td>\n      <td>Afghanistan</td>\n      <td>2020-01-03</td>\n      <td>0.0</td>\n      <td>0.0</td>\n      <td>0.0</td>\n      <td>0.0</td>\n      <td>0.0</td>\n      <td>0.0</td>\n      <td>...</td>\n      <td>1.337</td>\n      <td>1803.987</td>\n      <td>NaN</td>\n      <td>597.029</td>\n      <td>9.59</td>\n      <td>NaN</td>\n      <td>NaN</td>\n      <td>37.746</td>\n      <td>0.5</td>\n      <td>64.83</td>\n    </tr>\n    <tr>\n      <th>4</th>\n      <td>AFG</td>\n      <td>Asia</td>\n      <td>Afghanistan</td>\n      <td>2020-01-04</td>\n      <td>0.0</td>\n      <td>0.0</td>\n      <td>0.0</td>\n      <td>0.0</td>\n      <td>0.0</td>\n      <td>0.0</td>\n      <td>...</td>\n      <td>1.337</td>\n      <td>1803.987</td>\n      <td>NaN</td>\n      <td>597.029</td>\n      <td>9.59</td>\n      <td>NaN</td>\n      <td>NaN</td>\n      <td>37.746</td>\n      <td>0.5</td>\n      <td>64.83</td>\n    </tr>\n    <tr>\n      <th>...</th>\n      <td>...</td>\n      <td>...</td>\n      <td>...</td>\n      <td>...</td>\n      <td>...</td>\n      <td>...</td>\n      <td>...</td>\n      <td>...</td>\n      <td>...</td>\n      <td>...</td>\n      <td>...</td>\n      <td>...</td>\n      <td>...</td>\n      <td>...</td>\n      <td>...</td>\n      <td>...</td>\n      <td>...</td>\n      <td>...</td>\n      <td>...</td>\n      <td>...</td>\n      <td>...</td>\n    </tr>\n    <tr>\n      <th>33412</th>\n      <td>NaN</td>\n      <td>NaN</td>\n      <td>International</td>\n      <td>2020-02-28</td>\n      <td>705.0</td>\n      <td>0.0</td>\n      <td>4.0</td>\n      <td>0.0</td>\n      <td>NaN</td>\n      <td>NaN</td>\n      <td>...</td>\n      <td>NaN</td>\n      <td>NaN</td>\n      <td>NaN</td>\n      <td>NaN</td>\n      <td>NaN</td>\n      <td>NaN</td>\n      <td>NaN</td>\n      <td>NaN</td>\n      <td>NaN</td>\n      <td>NaN</td>\n    </tr>\n    <tr>\n      <th>33413</th>\n      <td>NaN</td>\n      <td>NaN</td>\n      <td>International</td>\n      <td>2020-02-29</td>\n      <td>705.0</td>\n      <td>0.0</td>\n      <td>6.0</td>\n      <td>2.0</td>\n      <td>NaN</td>\n      <td>NaN</td>\n      <td>...</td>\n      <td>NaN</td>\n      <td>NaN</td>\n      <td>NaN</td>\n      <td>NaN</td>\n      <td>NaN</td>\n      <td>NaN</td>\n      <td>NaN</td>\n      <td>NaN</td>\n      <td>NaN</td>\n      <td>NaN</td>\n    </tr>\n    <tr>\n      <th>33414</th>\n      <td>NaN</td>\n      <td>NaN</td>\n      <td>International</td>\n      <td>2020-03-01</td>\n      <td>705.0</td>\n      <td>0.0</td>\n      <td>6.0</td>\n      <td>0.0</td>\n      <td>NaN</td>\n      <td>NaN</td>\n      <td>...</td>\n      <td>NaN</td>\n      <td>NaN</td>\n      <td>NaN</td>\n      <td>NaN</td>\n      <td>NaN</td>\n      <td>NaN</td>\n      <td>NaN</td>\n      <td>NaN</td>\n      <td>NaN</td>\n      <td>NaN</td>\n    </tr>\n    <tr>\n      <th>33415</th>\n      <td>NaN</td>\n      <td>NaN</td>\n      <td>International</td>\n      <td>2020-03-02</td>\n      <td>705.0</td>\n      <td>0.0</td>\n      <td>6.0</td>\n      <td>0.0</td>\n      <td>NaN</td>\n      <td>NaN</td>\n      <td>...</td>\n      <td>NaN</td>\n      <td>NaN</td>\n      <td>NaN</td>\n      <td>NaN</td>\n      <td>NaN</td>\n      <td>NaN</td>\n      <td>NaN</td>\n      <td>NaN</td>\n      <td>NaN</td>\n      <td>NaN</td>\n    </tr>\n    <tr>\n      <th>33416</th>\n      <td>NaN</td>\n      <td>NaN</td>\n      <td>International</td>\n      <td>2020-03-10</td>\n      <td>696.0</td>\n      <td>-9.0</td>\n      <td>7.0</td>\n      <td>1.0</td>\n      <td>NaN</td>\n      <td>NaN</td>\n      <td>...</td>\n      <td>NaN</td>\n      <td>NaN</td>\n      <td>NaN</td>\n      <td>NaN</td>\n      <td>NaN</td>\n      <td>NaN</td>\n      <td>NaN</td>\n      <td>NaN</td>\n      <td>NaN</td>\n      <td>NaN</td>\n    </tr>\n  </tbody>\n</table>\n<p>33417 rows × 34 columns</p>\n</div>"
     },
     "metadata": {},
     "execution_count": 2
    }
   ],
   "source": [
    "url = 'https://covid.ourworldindata.org/data/owid-covid-data.csv'\n",
    "data = pd.read_csv(url)\n",
    "data"
   ]
  },
  {
   "cell_type": "code",
   "execution_count": 3,
   "metadata": {},
   "outputs": [
    {
     "output_type": "execute_result",
     "data": {
      "text/plain": "Index(['iso_code', 'continent', 'location', 'date', 'total_cases', 'new_cases',\n       'total_deaths', 'new_deaths', 'total_cases_per_million',\n       'new_cases_per_million', 'total_deaths_per_million',\n       'new_deaths_per_million', 'new_tests', 'total_tests',\n       'total_tests_per_thousand', 'new_tests_per_thousand',\n       'new_tests_smoothed', 'new_tests_smoothed_per_thousand', 'tests_units',\n       'stringency_index', 'population', 'population_density', 'median_age',\n       'aged_65_older', 'aged_70_older', 'gdp_per_capita', 'extreme_poverty',\n       'cardiovasc_death_rate', 'diabetes_prevalence', 'female_smokers',\n       'male_smokers', 'handwashing_facilities', 'hospital_beds_per_thousand',\n       'life_expectancy'],\n      dtype='object')"
     },
     "metadata": {},
     "execution_count": 3
    }
   ],
   "source": [
    "data.columns"
   ]
  },
  {
   "cell_type": "code",
   "execution_count": 4,
   "metadata": {},
   "outputs": [],
   "source": [
    "data = data.drop(['iso_code', 'continent','total_cases','total_deaths', 'new_deaths', 'total_cases_per_million',\n",
    "       'new_cases_per_million', 'total_deaths_per_million',\n",
    "       'new_deaths_per_million', 'new_tests', 'total_tests',\n",
    "       'total_tests_per_thousand', 'new_tests_per_thousand',\n",
    "       'new_tests_smoothed', 'new_tests_smoothed_per_thousand', 'tests_units',\n",
    "       'stringency_index', 'population', 'population_density', 'median_age',\n",
    "       'aged_65_older', 'aged_70_older', 'gdp_per_capita', 'extreme_poverty',\n",
    "       'cardiovasc_death_rate', 'diabetes_prevalence', 'female_smokers',\n",
    "       'male_smokers', 'handwashing_facilities', 'hospital_beds_per_thousand',\n",
    "       'life_expectancy'], axis= 1)"
   ]
  },
  {
   "cell_type": "code",
   "execution_count": 6,
   "metadata": {},
   "outputs": [
    {
     "output_type": "execute_result",
     "data": {
      "text/plain": "            location        date  new_cases\n0        Afghanistan  2019-12-31        0.0\n1        Afghanistan  2020-01-01        0.0\n2        Afghanistan  2020-01-02        0.0\n3        Afghanistan  2020-01-03        0.0\n4        Afghanistan  2020-01-04        0.0\n...              ...         ...        ...\n33412  International  2020-02-28        0.0\n33413  International  2020-02-29        0.0\n33414  International  2020-03-01        0.0\n33415  International  2020-03-02        0.0\n33416  International  2020-03-10       -9.0\n\n[33417 rows x 3 columns]",
      "text/html": "<div>\n<style scoped>\n    .dataframe tbody tr th:only-of-type {\n        vertical-align: middle;\n    }\n\n    .dataframe tbody tr th {\n        vertical-align: top;\n    }\n\n    .dataframe thead th {\n        text-align: right;\n    }\n</style>\n<table border=\"1\" class=\"dataframe\">\n  <thead>\n    <tr style=\"text-align: right;\">\n      <th></th>\n      <th>location</th>\n      <th>date</th>\n      <th>new_cases</th>\n    </tr>\n  </thead>\n  <tbody>\n    <tr>\n      <th>0</th>\n      <td>Afghanistan</td>\n      <td>2019-12-31</td>\n      <td>0.0</td>\n    </tr>\n    <tr>\n      <th>1</th>\n      <td>Afghanistan</td>\n      <td>2020-01-01</td>\n      <td>0.0</td>\n    </tr>\n    <tr>\n      <th>2</th>\n      <td>Afghanistan</td>\n      <td>2020-01-02</td>\n      <td>0.0</td>\n    </tr>\n    <tr>\n      <th>3</th>\n      <td>Afghanistan</td>\n      <td>2020-01-03</td>\n      <td>0.0</td>\n    </tr>\n    <tr>\n      <th>4</th>\n      <td>Afghanistan</td>\n      <td>2020-01-04</td>\n      <td>0.0</td>\n    </tr>\n    <tr>\n      <th>...</th>\n      <td>...</td>\n      <td>...</td>\n      <td>...</td>\n    </tr>\n    <tr>\n      <th>33412</th>\n      <td>International</td>\n      <td>2020-02-28</td>\n      <td>0.0</td>\n    </tr>\n    <tr>\n      <th>33413</th>\n      <td>International</td>\n      <td>2020-02-29</td>\n      <td>0.0</td>\n    </tr>\n    <tr>\n      <th>33414</th>\n      <td>International</td>\n      <td>2020-03-01</td>\n      <td>0.0</td>\n    </tr>\n    <tr>\n      <th>33415</th>\n      <td>International</td>\n      <td>2020-03-02</td>\n      <td>0.0</td>\n    </tr>\n    <tr>\n      <th>33416</th>\n      <td>International</td>\n      <td>2020-03-10</td>\n      <td>-9.0</td>\n    </tr>\n  </tbody>\n</table>\n<p>33417 rows × 3 columns</p>\n</div>"
     },
     "metadata": {},
     "execution_count": 6
    }
   ],
   "source": [
    "data"
   ]
  },
  {
   "cell_type": "code",
   "execution_count": 8,
   "metadata": {},
   "outputs": [],
   "source": [
    "data = data[data['location'].isin(['Argentina','Chile','Colombia','Russia','Spain'])]\n",
    "data.dropna(subset =['new_cases'], axis = 0, inplace = True)\n"
   ]
  },
  {
   "cell_type": "code",
   "execution_count": 25,
   "metadata": {},
   "outputs": [],
   "source": [
    "data.rename(columns={'new_cases':'c_average'},inplace = True)"
   ]
  },
  {
   "cell_type": "code",
   "execution_count": 27,
   "metadata": {},
   "outputs": [],
   "source": [
    "json_to_load.to_json('Proy.json')"
   ]
  },
  {
   "cell_type": "code",
   "execution_count": 26,
   "metadata": {
    "tags": []
   },
   "outputs": [
    {
     "output_type": "execute_result",
     "data": {
      "text/plain": "            c_average\ndate                 \n2019-12-31        0.0\n2020-01-01        0.0\n2020-01-02        0.0\n2020-01-03        0.0\n2020-01-04        0.0\n...               ...\n2020-07-25     4330.2\n2020-07-26     4181.2\n2020-07-27     6302.2\n2020-07-28     3544.2\n2020-07-29     5611.5\n\n[212 rows x 1 columns]",
      "text/html": "<div>\n<style scoped>\n    .dataframe tbody tr th:only-of-type {\n        vertical-align: middle;\n    }\n\n    .dataframe tbody tr th {\n        vertical-align: top;\n    }\n\n    .dataframe thead th {\n        text-align: right;\n    }\n</style>\n<table border=\"1\" class=\"dataframe\">\n  <thead>\n    <tr style=\"text-align: right;\">\n      <th></th>\n      <th>c_average</th>\n    </tr>\n    <tr>\n      <th>date</th>\n      <th></th>\n    </tr>\n  </thead>\n  <tbody>\n    <tr>\n      <th>2019-12-31</th>\n      <td>0.0</td>\n    </tr>\n    <tr>\n      <th>2020-01-01</th>\n      <td>0.0</td>\n    </tr>\n    <tr>\n      <th>2020-01-02</th>\n      <td>0.0</td>\n    </tr>\n    <tr>\n      <th>2020-01-03</th>\n      <td>0.0</td>\n    </tr>\n    <tr>\n      <th>2020-01-04</th>\n      <td>0.0</td>\n    </tr>\n    <tr>\n      <th>...</th>\n      <td>...</td>\n    </tr>\n    <tr>\n      <th>2020-07-25</th>\n      <td>4330.2</td>\n    </tr>\n    <tr>\n      <th>2020-07-26</th>\n      <td>4181.2</td>\n    </tr>\n    <tr>\n      <th>2020-07-27</th>\n      <td>6302.2</td>\n    </tr>\n    <tr>\n      <th>2020-07-28</th>\n      <td>3544.2</td>\n    </tr>\n    <tr>\n      <th>2020-07-29</th>\n      <td>5611.5</td>\n    </tr>\n  </tbody>\n</table>\n<p>212 rows × 1 columns</p>\n</div>"
     },
     "metadata": {},
     "execution_count": 26
    }
   ],
   "source": [
    "json_to_load = data.groupby('date').mean()\n",
    "json_to_load"
   ]
  },
  {
   "cell_type": "code",
   "execution_count": 30,
   "metadata": {},
   "outputs": [
    {
     "output_type": "execute_result",
     "data": {
      "text/plain": "'{\"c_average\":{\"2019-12-31\":0.0,\"2020-01-01\":0.0,\"2020-01-02\":0.0,\"2020-01-03\":0.0,\"2020-01-04\":0.0,\"2020-01-05\":0.0,\"2020-01-06\":0.0,\"2020-01-07\":0.0,\"2020-01-08\":0.0,\"2020-01-09\":0.0,\"2020-01-10\":0.0,\"2020-01-11\":0.0,\"2020-01-12\":0.0,\"2020-01-13\":0.0,\"2020-01-14\":0.0,\"2020-01-15\":0.0,\"2020-01-16\":0.0,\"2020-01-17\":0.0,\"2020-01-18\":0.0,\"2020-01-19\":0.0,\"2020-01-20\":0.0,\"2020-01-21\":0.0,\"2020-01-22\":0.0,\"2020-01-23\":0.0,\"2020-01-24\":0.0,\"2020-01-25\":0.0,\"2020-01-26\":0.0,\"2020-01-27\":0.0,\"2020-01-28\":0.0,\"2020-01-29\":0.0,\"2020-01-30\":0.0,\"2020-01-31\":0.0,\"2020-02-01\":1.5,\"2020-02-02\":0.0,\"2020-02-03\":0.0,\"2020-02-04\":0.0,\"2020-02-05\":0.0,\"2020-02-06\":0.0,\"2020-02-07\":0.0,\"2020-02-08\":0.0,\"2020-02-09\":0.0,\"2020-02-10\":0.5,\"2020-02-11\":0.0,\"2020-02-12\":0.0,\"2020-02-13\":0.0,\"2020-02-14\":0.0,\"2020-02-15\":0.0,\"2020-02-16\":0.0,\"2020-02-17\":0.0,\"2020-02-18\":0.0,\"2020-02-19\":0.0,\"2020-02-20\":0.0,\"2020-02-21\":0.0,\"2020-02-22\":0.0,\"2020-02-23\":0.0,\"2020-02-24\":0.0,\"2020-02-25\":0.5,\"2020-02-26\":3.0,\"2020-02-27\":4.0,\"2020-02-28\":9.0,\"2020-02-29\":9.5,\"2020-03-01\":14.0,\"2020-03-02\":27.0,\"2020-03-03\":28.5,\"2020-03-04\":19.5,\"2020-03-05\":27.6666666667,\"2020-03-06\":46.25,\"2020-03-07\":49.4,\"2020-03-08\":110.3333333333,\"2020-03-09\":110.25,\"2020-03-10\":194.25,\"2020-03-11\":246.5,\"2020-03-12\":295.0,\"2020-03-13\":389.5,\"2020-03-14\":343.6,\"2020-03-15\":441.0,\"2020-03-16\":349.2,\"2020-03-17\":527.0,\"2020-03-18\":756.4,\"2020-03-19\":834.4,\"2020-03-20\":956.4,\"2020-03-21\":1130.4,\"2020-03-22\":1028.2,\"2020-03-23\":987.8,\"2020-03-24\":1582.2,\"2020-03-25\":1788.8,\"2020-03-26\":1908.8,\"2020-03-27\":1927.0,\"2020-03-28\":1778.6,\"2020-03-29\":1415.0,\"2020-03-30\":1296.4,\"2020-03-31\":1799.8,\"2020-04-01\":1662.2,\"2020-04-02\":1728.4,\"2020-04-03\":1702.4,\"2020-04-04\":1567.0,\"2020-04-05\":1372.8,\"2020-04-06\":963.4,\"2020-04-07\":1335.0,\"2020-04-08\":1465.2,\"2020-04-09\":1540.8,\"2020-04-10\":1338.0,\"2020-04-11\":1439.2,\"2020-04-12\":1278.0,\"2020-04-13\":1127.0,\"2020-04-14\":1226.2,\"2020-04-15\":1575.4,\"2020-04-16\":1538.0,\"2020-04-17\":1611.2,\"2020-04-18\":1731.0,\"2020-04-19\":980.4,\"2020-04-20\":1781.8,\"2020-04-21\":1582.6,\"2020-04-22\":1712.6,\"2020-04-23\":1793.4,\"2020-04-24\":1551.2,\"2020-04-25\":1833.8,\"2020-04-26\":1752.8,\"2020-04-27\":1746.2,\"2020-04-28\":1729.2,\"2020-04-29\":1657.2,\"2020-04-30\":1604.4,\"2020-05-01\":2012.6,\"2020-05-02\":2151.0,\"2020-05-03\":2482.6,\"2020-05-04\":2562.4,\"2020-05-05\":2601.8,\"2020-05-06\":2625.6,\"2020-05-07\":2609.2,\"2020-05-08\":2919.4,\"2020-05-09\":2733.6,\"2020-05-10\":3217.8,\"2020-05-11\":2726.6,\"2020-05-12\":2826.0,\"2020-05-13\":2836.8,\"2020-05-14\":2902.2,\"2020-05-15\":2842.2,\"2020-05-16\":2913.2,\"2020-05-17\":2557.4,\"2020-05-18\":2590.6,\"2020-05-19\":2584.4,\"2020-05-20\":2875.8,\"2020-05-21\":2902.0,\"2020-05-22\":3178.2,\"2020-05-23\":3031.0,\"2020-05-24\":3040.4,\"2020-05-25\":2731.4,\"2020-05-26\":3211.6,\"2020-05-27\":3002.2,\"2020-05-28\":3121.8,\"2020-05-29\":3142.8,\"2020-05-30\":2994.0,\"2020-05-31\":3143.2,\"2020-06-01\":3218.2,\"2020-06-02\":3294.8,\"2020-06-03\":3005.6,\"2020-06-04\":3256.4,\"2020-06-05\":3115.8,\"2020-06-06\":3309.8,\"2020-06-07\":3343.2,\"2020-06-08\":3507.8,\"2020-06-09\":3247.8,\"2020-06-10\":3064.4,\"2020-06-11\":3482.2,\"2020-06-12\":3250.0,\"2020-06-13\":4140.8,\"2020-06-14\":3791.4,\"2020-06-15\":3885.8,\"2020-06-16\":3388.0,\"2020-06-17\":3371.6,\"2020-06-18\":9623.0,\"2020-06-19\":3148.6,\"2020-06-20\":4340.4,\"2020-06-21\":3513.8,\"2020-06-22\":3633.4,\"2020-06-23\":3426.6,\"2020-06-24\":2790.4,\"2020-06-25\":3937.2,\"2020-06-26\":3654.4,\"2020-06-27\":3100.6,\"2020-06-28\":4199.0,\"2020-06-29\":2877.0,\"2020-06-30\":3767.0,\"2020-07-01\":3108.0,\"2020-07-02\":3296.0,\"2020-07-03\":3309.0,\"2020-07-04\":3301.2,\"2020-07-05\":2854.8,\"2020-07-06\":3595.2,\"2020-07-07\":3117.4,\"2020-07-08\":3211.6,\"2020-07-09\":3258.4,\"2020-07-10\":3886.6,\"2020-07-11\":4031.8,\"2020-07-12\":3463.8,\"2020-07-13\":4040.8,\"2020-07-14\":3251.6,\"2020-07-15\":3545.8,\"2020-07-16\":3682.2,\"2020-07-17\":4521.6,\"2020-07-18\":5607.6,\"2020-07-19\":3837.4,\"2020-07-20\":3754.6,\"2020-07-21\":4071.0,\"2020-07-22\":3981.0,\"2020-07-23\":4586.0,\"2020-07-24\":4837.4,\"2020-07-25\":4330.2,\"2020-07-26\":4181.2,\"2020-07-27\":6302.2,\"2020-07-28\":3544.2,\"2020-07-29\":5611.5}}'"
     },
     "metadata": {},
     "execution_count": 30
    }
   ],
   "source": [
    "json1 = json_to_load.to_json()\n",
    "json1"
   ]
  },
  {
   "cell_type": "code",
   "execution_count": null,
   "metadata": {},
   "outputs": [],
   "source": []
  }
 ],
 "metadata": {
  "language_info": {
   "codemirror_mode": {
    "name": "ipython",
    "version": 3
   },
   "file_extension": ".py",
   "mimetype": "text/x-python",
   "name": "python",
   "nbconvert_exporter": "python",
   "pygments_lexer": "ipython3",
   "version": 3
  },
  "orig_nbformat": 2,
  "kernelspec": {
   "name": "python_defaultSpec_1596020976043",
   "display_name": "Python 3.8.3 64-bit"
  }
 },
 "nbformat": 4,
 "nbformat_minor": 2
}
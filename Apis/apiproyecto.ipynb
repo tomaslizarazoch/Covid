{
 "cells": [
  {
   "cell_type": "code",
   "execution_count": 4,
   "metadata": {
    "tags": []
   },
   "outputs": [
    {
     "output_type": "stream",
     "name": "stdout",
     "text": "__main__\n"
    }
   ],
   "source": [
    "if __name__ == '__main__':\n",
    "    print(__name__)"
   ]
  },
  {
   "cell_type": "code",
   "execution_count": 3,
   "metadata": {
    "tags": []
   },
   "outputs": [
    {
     "output_type": "stream",
     "name": "stdout",
     "text": "__main__\n"
    }
   ],
   "source": [
    "print(__name__)"
   ]
  },
  {
   "cell_type": "code",
   "execution_count": 1,
   "metadata": {},
   "outputs": [],
   "source": [
    "import os, json  # import libraries to create the server"
   ]
  },
  {
   "cell_type": "code",
   "execution_count": 23,
   "metadata": {},
   "outputs": [
    {
     "output_type": "execute_result",
     "data": {
      "text/plain": "'//Users//Tomi//Desktop//my_git//project//Covid//Apis/set.json'"
     },
     "metadata": {},
     "execution_count": 23
    }
   ],
   "source": [
    "# Define a variable with the path of the settings of the server and cretate the os path\n",
    "\n",
    "s = \"//Users//Tomi//Desktop//my_git//project//Covid//Apis//serverproyecto.py\"\n",
    "\n",
    "import os\n",
    "settings = os.path.dirname(s) + \"/set.json\"\n",
    "settings"
   ]
  },
  {
   "cell_type": "code",
   "execution_count": 24,
   "metadata": {},
   "outputs": [
    {
     "output_type": "execute_result",
     "data": {
      "text/plain": "{'server_running': True, 'port': 6060, 'debug': True, 'host': '0.0.0.0'}"
     },
     "metadata": {},
     "execution_count": 24
    }
   ],
   "source": [
    "with open(settings, \"r\") as json_file_readed:\n",
    "    json_readed = json.load(json_file_readed)\n",
    "json_readed"
   ]
  },
  {
   "cell_type": "code",
   "execution_count": 25,
   "metadata": {},
   "outputs": [
    {
     "output_type": "execute_result",
     "data": {
      "text/plain": "6060"
     },
     "metadata": {},
     "execution_count": 25
    }
   ],
   "source": [
    "json_readed[\"port\"]"
   ]
  },
  {
   "cell_type": "code",
   "execution_count": null,
   "metadata": {},
   "outputs": [],
   "source": []
  }
 ],
 "metadata": {
  "language_info": {
   "codemirror_mode": {
    "name": "ipython",
    "version": 3
   },
   "file_extension": ".py",
   "mimetype": "text/x-python",
   "name": "python",
   "nbconvert_exporter": "python",
   "pygments_lexer": "ipython3",
   "version": 3
  },
  "orig_nbformat": 2,
  "kernelspec": {
   "name": "python_defaultSpec_1596018581011",
   "display_name": "Python 3.8.3 64-bit"
  }
 },
 "nbformat": 4,
 "nbformat_minor": 2
}